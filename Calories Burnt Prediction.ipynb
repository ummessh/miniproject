{
 "cells": [
  {
   "cell_type": "code",
   "execution_count": null,
   "metadata": {},
   "outputs": [],
   "source": [
    "import pandas as pd\n",
    "import numpy as np\n",
    "import warnings\n",
    "warnings.filterwarnings('ignore')\n",
    "import seaborn as sns\n",
    "import matplotlib.pyplot as plt\n",
    "from sklearn.preprocessing import StandardScaler,OrdinalEncoder\n",
    "from sklearn.metrics import r2_score\n",
    "from sklearn.model_selection import cross_val_score\n",
    "from sklearn.model_selection import KFold\n",
    "from sklearn.pipeline import Pipeline\n",
    "from sklearn.compose import ColumnTransformer\n",
    "from sklearn.model_selection import train_test_split\n",
    "from sklearn.linear_model import LinearRegression\n",
    "from sklearn.ensemble import RandomForestRegressor\n",
    "from xgboost import XGBRegressor"
   ]
  },
  {
   "cell_type": "code",
   "execution_count": null,
   "metadata": {},
   "outputs": [],
   "source": [
    "# 1. Reading data from CSV\n",
    "def read_csv(file_path):\n",
    "   return pd.read_csv(file_path)"
   ]
  },
  {
   "cell_type": "code",
   "execution_count": null,
   "metadata": {},
   "outputs": [],
   "source": [
    "#2. Getting information and statistics about over dataset\n",
    "def dataset_info_statistics(data):\n",
    "   # Display general information about the dataset\n",
    "    print(\"Dataset Information:\")\n",
    "    print(data.info())\n",
    "    print(\"\\n\")\n",
    "\n",
    "    # Display basic statistics for numerical columns\n",
    "    print(\"Basic Statistics for Numerical Columns:\")\n",
    "    print(data.describe())\n",
    "    print(\"\\n\")\n",
    "\n",
    "#3.check for the null values in the dataset\n",
    "def check_null(data):\n",
    "  null_counts = data.isnull().sum()\n",
    "  print(\"Null Values in the Dataset:\")\n",
    "  return null_counts\n",
    "\n",
    "#4.check for duplicated rows in the dataset\n",
    "def check_duplicates(data):\n",
    "   return data.duplicated().any()\n",
    "   #5. getting basic analysis for numerical and categorical columns\n",
    "def plot_graph(data):\n",
    "\n",
    "    numerical_columns = data.select_dtypes(include=np.number).columns\n",
    "\n",
    "    for column in numerical_columns:\n",
    "        plt.figure(figsize=(5,3))\n",
    "        sns.distplot(data[column],kde=True)\n",
    "        plt.title(f\"Histogram for {column}\")\n",
    "        plt.xlabel(column)\n",
    "        plt.ylabel(\"Frequency\")\n",
    "        plt.show()\n",
    "\n",
    "    categorical_columns = data.select_dtypes(include='object').columns\n",
    "    for column in categorical_columns:\n",
    "        plt.figure(figsize=(5, 3))\n",
    "        sns.countplot(data[column])\n",
    "        plt.title(f'Countplot for {column}')\n",
    "        plt.xlabel(column)\n",
    "        plt.ylabel('Count')\n",
    "        plt.xticks(rotation=45)\n",
    "        plt.show()\n",
    "\n",
    "#6. Seperate feature and target\n",
    "def seperate_features_target(data,target_column):\n",
    "\n",
    "    X = data.drop(columns=[target_column],axis=1)\n",
    "    y = data[target_column]\n",
    "\n",
    "    return X,y\n",
    "#7. Train test split\n",
    "def perform_train_test_split(X, y, test_size=0.20, random_state=42):\n",
    "\n",
    "    X_train, X_test, y_train, y_test = train_test_split(X, y, test_size=test_size, random_state=random_state)\n",
    "\n",
    "    return X_train, X_test, y_train, y_test"
   ]
  },
  {
   "cell_type": "code",
   "execution_count": null,
   "metadata": {},
   "outputs": [],
   "source": [
    "calories = read_csv('calories.csv')\n",
    "exercise = read_csv('exercise.csv')"
   ]
  },
  {
   "cell_type": "code",
   "execution_count": null,
   "metadata": {},
   "outputs": [],
   "source": [
    "data = pd.merge(calories, exercise, on='User_ID')"
   ]
  },
  {
   "cell_type": "code",
   "execution_count": null,
   "metadata": {},
   "outputs": [],
   "source": [
    "data.head()"
   ]
  },
  {
   "cell_type": "code",
   "execution_count": 6,
   "metadata": {},
   "outputs": [
    {
     "name": "stdout",
     "output_type": "stream",
     "text": [
      "Dataset Information:\n",
      "<class 'pandas.core.frame.DataFrame'>\n",
      "Int64Index: 15000 entries, 0 to 14999\n",
      "Data columns (total 9 columns):\n",
      " #   Column      Non-Null Count  Dtype  \n",
      "---  ------      --------------  -----  \n",
      " 0   User_ID     15000 non-null  int64  \n",
      " 1   Calories    15000 non-null  float64\n",
      " 2   Gender      15000 non-null  object \n",
      " 3   Age         15000 non-null  int64  \n",
      " 4   Height      15000 non-null  float64\n",
      " 5   Weight      15000 non-null  float64\n",
      " 6   Duration    15000 non-null  float64\n",
      " 7   Heart_Rate  15000 non-null  float64\n",
      " 8   Body_Temp   15000 non-null  float64\n",
      "dtypes: float64(6), int64(2), object(1)\n",
      "memory usage: 1.1+ MB\n",
      "None\n",
      "\n",
      "\n",
      "Basic Statistics for Numerical Columns:\n",
      "            User_ID      Calories           Age        Height        Weight  \\\n",
      "count  1.500000e+04  15000.000000  15000.000000  15000.000000  15000.000000   \n",
      "mean   1.497736e+07     89.539533     42.789800    174.465133     74.966867   \n",
      "std    2.872851e+06     62.456978     16.980264     14.258114     15.035657   \n",
      "min    1.000116e+07      1.000000     20.000000    123.000000     36.000000   \n",
      "25%    1.247419e+07     35.000000     28.000000    164.000000     63.000000   \n",
      "50%    1.499728e+07     79.000000     39.000000    175.000000     74.000000   \n",
      "75%    1.744928e+07    138.000000     56.000000    185.000000     87.000000   \n",
      "max    1.999965e+07    314.000000     79.000000    222.000000    132.000000   \n",
      "\n",
      "           Duration    Heart_Rate     Body_Temp  \n",
      "count  15000.000000  15000.000000  15000.000000  \n",
      "mean      15.530600     95.518533     40.025453  \n",
      "std        8.319203      9.583328      0.779230  \n",
      "min        1.000000     67.000000     37.100000  \n",
      "25%        8.000000     88.000000     39.600000  \n",
      "50%       16.000000     96.000000     40.200000  \n",
      "75%       23.000000    103.000000     40.600000  \n",
      "max       30.000000    128.000000     41.500000  \n",
      "\n",
      "\n"
     ]
    }
   ],
   "source": [
    "dataset_info_statistics(data)"
   ]
  },
  {
   "cell_type": "code",
   "execution_count": 7,
   "metadata": {},
   "outputs": [
    {
     "name": "stdout",
     "output_type": "stream",
     "text": [
      "Null Values in the Dataset:\n"
     ]
    },
    {
     "data": {
      "text/plain": [
       "User_ID       0\n",
       "Calories      0\n",
       "Gender        0\n",
       "Age           0\n",
       "Height        0\n",
       "Weight        0\n",
       "Duration      0\n",
       "Heart_Rate    0\n",
       "Body_Temp     0\n",
       "dtype: int64"
      ]
     },
     "execution_count": 7,
     "metadata": {},
     "output_type": "execute_result"
    }
   ],
   "source": [
    "check_null(data)"
   ]
  },
  {
   "cell_type": "code",
   "execution_count": 8,
   "metadata": {},
   "outputs": [],
   "source": [
    "#plot_graph(data)"
   ]
  },
  {
   "cell_type": "code",
   "execution_count": 9,
   "metadata": {},
   "outputs": [
    {
     "data": {
      "text/plain": [
       "Index(['User_ID', 'Calories', 'Gender', 'Age', 'Height', 'Weight', 'Duration',\n",
       "       'Heart_Rate', 'Body_Temp'],\n",
       "      dtype='object')"
      ]
     },
     "execution_count": 9,
     "metadata": {},
     "output_type": "execute_result"
    }
   ],
   "source": [
    "data.columns"
   ]
  },
  {
   "cell_type": "code",
   "execution_count": 10,
   "metadata": {},
   "outputs": [],
   "source": [
    "X,y = seperate_features_target(data,'Calories')"
   ]
  },
  {
   "cell_type": "code",
   "execution_count": 11,
   "metadata": {},
   "outputs": [],
   "source": [
    "X = X.drop(columns=['User_ID'])"
   ]
  },
  {
   "cell_type": "code",
   "execution_count": 12,
   "metadata": {},
   "outputs": [],
   "source": [
    "X_train,X_test,y_train,y_test = perform_train_test_split(X, y, test_size=0.20, random_state=42)"
   ]
  },
  {
   "cell_type": "markdown",
   "metadata": {},
   "source": [
    "### Column Transformer and Pipeline"
   ]
  },
  {
   "cell_type": "code",
   "execution_count": 13,
   "metadata": {},
   "outputs": [],
   "source": [
    "preprocessor = ColumnTransformer(transformers=[\n",
    "    ('ordinal',OrdinalEncoder(),['Gender']),\n",
    "    ('num',StandardScaler(),['Age',\n",
    "                            'Height',\n",
    "                            'Weight',\n",
    "                            'Duration',\n",
    "                            'Heart_Rate',\n",
    "                            'Body_Temp']),\n",
    "],remainder='passthrough')"
   ]
  },
  {
   "cell_type": "code",
   "execution_count": 14,
   "metadata": {},
   "outputs": [],
   "source": [
    "pipeline = Pipeline([(\"preprocessor\",preprocessor),\n",
    "                     (\"model\",LinearRegression())\n",
    "                    ])"
   ]
  },
  {
   "cell_type": "code",
   "execution_count": 15,
   "metadata": {},
   "outputs": [],
   "source": [
    "from sklearn import set_config"
   ]
  },
  {
   "cell_type": "code",
   "execution_count": 16,
   "metadata": {},
   "outputs": [],
   "source": [
    "set_config(display='diagram')"
   ]
  },
  {
   "cell_type": "code",
   "execution_count": 17,
   "metadata": {},
   "outputs": [
    {
     "data": {
      "text/html": [
       "<style>#sk-fba89cce-1d3a-4d9c-b968-25935371a5b8 {color: black;background-color: white;}#sk-fba89cce-1d3a-4d9c-b968-25935371a5b8 pre{padding: 0;}#sk-fba89cce-1d3a-4d9c-b968-25935371a5b8 div.sk-toggleable {background-color: white;}#sk-fba89cce-1d3a-4d9c-b968-25935371a5b8 label.sk-toggleable__label {cursor: pointer;display: block;width: 100%;margin-bottom: 0;padding: 0.3em;box-sizing: border-box;text-align: center;}#sk-fba89cce-1d3a-4d9c-b968-25935371a5b8 label.sk-toggleable__label-arrow:before {content: \"▸\";float: left;margin-right: 0.25em;color: #696969;}#sk-fba89cce-1d3a-4d9c-b968-25935371a5b8 label.sk-toggleable__label-arrow:hover:before {color: black;}#sk-fba89cce-1d3a-4d9c-b968-25935371a5b8 div.sk-estimator:hover label.sk-toggleable__label-arrow:before {color: black;}#sk-fba89cce-1d3a-4d9c-b968-25935371a5b8 div.sk-toggleable__content {max-height: 0;max-width: 0;overflow: hidden;text-align: left;background-color: #f0f8ff;}#sk-fba89cce-1d3a-4d9c-b968-25935371a5b8 div.sk-toggleable__content pre {margin: 0.2em;color: black;border-radius: 0.25em;background-color: #f0f8ff;}#sk-fba89cce-1d3a-4d9c-b968-25935371a5b8 input.sk-toggleable__control:checked~div.sk-toggleable__content {max-height: 200px;max-width: 100%;overflow: auto;}#sk-fba89cce-1d3a-4d9c-b968-25935371a5b8 input.sk-toggleable__control:checked~label.sk-toggleable__label-arrow:before {content: \"▾\";}#sk-fba89cce-1d3a-4d9c-b968-25935371a5b8 div.sk-estimator input.sk-toggleable__control:checked~label.sk-toggleable__label {background-color: #d4ebff;}#sk-fba89cce-1d3a-4d9c-b968-25935371a5b8 div.sk-label input.sk-toggleable__control:checked~label.sk-toggleable__label {background-color: #d4ebff;}#sk-fba89cce-1d3a-4d9c-b968-25935371a5b8 input.sk-hidden--visually {border: 0;clip: rect(1px 1px 1px 1px);clip: rect(1px, 1px, 1px, 1px);height: 1px;margin: -1px;overflow: hidden;padding: 0;position: absolute;width: 1px;}#sk-fba89cce-1d3a-4d9c-b968-25935371a5b8 div.sk-estimator {font-family: monospace;background-color: #f0f8ff;border: 1px dotted black;border-radius: 0.25em;box-sizing: border-box;margin-bottom: 0.5em;}#sk-fba89cce-1d3a-4d9c-b968-25935371a5b8 div.sk-estimator:hover {background-color: #d4ebff;}#sk-fba89cce-1d3a-4d9c-b968-25935371a5b8 div.sk-parallel-item::after {content: \"\";width: 100%;border-bottom: 1px solid gray;flex-grow: 1;}#sk-fba89cce-1d3a-4d9c-b968-25935371a5b8 div.sk-label:hover label.sk-toggleable__label {background-color: #d4ebff;}#sk-fba89cce-1d3a-4d9c-b968-25935371a5b8 div.sk-serial::before {content: \"\";position: absolute;border-left: 1px solid gray;box-sizing: border-box;top: 2em;bottom: 0;left: 50%;}#sk-fba89cce-1d3a-4d9c-b968-25935371a5b8 div.sk-serial {display: flex;flex-direction: column;align-items: center;background-color: white;padding-right: 0.2em;padding-left: 0.2em;}#sk-fba89cce-1d3a-4d9c-b968-25935371a5b8 div.sk-item {z-index: 1;}#sk-fba89cce-1d3a-4d9c-b968-25935371a5b8 div.sk-parallel {display: flex;align-items: stretch;justify-content: center;background-color: white;}#sk-fba89cce-1d3a-4d9c-b968-25935371a5b8 div.sk-parallel::before {content: \"\";position: absolute;border-left: 1px solid gray;box-sizing: border-box;top: 2em;bottom: 0;left: 50%;}#sk-fba89cce-1d3a-4d9c-b968-25935371a5b8 div.sk-parallel-item {display: flex;flex-direction: column;position: relative;background-color: white;}#sk-fba89cce-1d3a-4d9c-b968-25935371a5b8 div.sk-parallel-item:first-child::after {align-self: flex-end;width: 50%;}#sk-fba89cce-1d3a-4d9c-b968-25935371a5b8 div.sk-parallel-item:last-child::after {align-self: flex-start;width: 50%;}#sk-fba89cce-1d3a-4d9c-b968-25935371a5b8 div.sk-parallel-item:only-child::after {width: 0;}#sk-fba89cce-1d3a-4d9c-b968-25935371a5b8 div.sk-dashed-wrapped {border: 1px dashed gray;margin: 0 0.4em 0.5em 0.4em;box-sizing: border-box;padding-bottom: 0.4em;background-color: white;position: relative;}#sk-fba89cce-1d3a-4d9c-b968-25935371a5b8 div.sk-label label {font-family: monospace;font-weight: bold;background-color: white;display: inline-block;line-height: 1.2em;}#sk-fba89cce-1d3a-4d9c-b968-25935371a5b8 div.sk-label-container {position: relative;z-index: 2;text-align: center;}#sk-fba89cce-1d3a-4d9c-b968-25935371a5b8 div.sk-container {/* jupyter's `normalize.less` sets `[hidden] { display: none; }` but bootstrap.min.css set `[hidden] { display: none !important; }` so we also need the `!important` here to be able to override the default hidden behavior on the sphinx rendered scikit-learn.org. See: https://github.com/scikit-learn/scikit-learn/issues/21755 */display: inline-block !important;position: relative;}#sk-fba89cce-1d3a-4d9c-b968-25935371a5b8 div.sk-text-repr-fallback {display: none;}</style><div id=\"sk-fba89cce-1d3a-4d9c-b968-25935371a5b8\" class=\"sk-top-container\"><div class=\"sk-text-repr-fallback\"><pre>Pipeline(steps=[(&#x27;preprocessor&#x27;,\n",
       "                 ColumnTransformer(remainder=&#x27;passthrough&#x27;,\n",
       "                                   transformers=[(&#x27;ordinal&#x27;, OrdinalEncoder(),\n",
       "                                                  [&#x27;Gender&#x27;]),\n",
       "                                                 (&#x27;num&#x27;, StandardScaler(),\n",
       "                                                  [&#x27;Age&#x27;, &#x27;Height&#x27;, &#x27;Weight&#x27;,\n",
       "                                                   &#x27;Duration&#x27;, &#x27;Heart_Rate&#x27;,\n",
       "                                                   &#x27;Body_Temp&#x27;])])),\n",
       "                (&#x27;model&#x27;, LinearRegression())])</pre><b>Please rerun this cell to show the HTML repr or trust the notebook.</b></div><div class=\"sk-container\" hidden><div class=\"sk-item sk-dashed-wrapped\"><div class=\"sk-label-container\"><div class=\"sk-label sk-toggleable\"><input class=\"sk-toggleable__control sk-hidden--visually\" id=\"08246165-b574-482f-aaf2-b6d2e0347b16\" type=\"checkbox\" ><label for=\"08246165-b574-482f-aaf2-b6d2e0347b16\" class=\"sk-toggleable__label sk-toggleable__label-arrow\">Pipeline</label><div class=\"sk-toggleable__content\"><pre>Pipeline(steps=[(&#x27;preprocessor&#x27;,\n",
       "                 ColumnTransformer(remainder=&#x27;passthrough&#x27;,\n",
       "                                   transformers=[(&#x27;ordinal&#x27;, OrdinalEncoder(),\n",
       "                                                  [&#x27;Gender&#x27;]),\n",
       "                                                 (&#x27;num&#x27;, StandardScaler(),\n",
       "                                                  [&#x27;Age&#x27;, &#x27;Height&#x27;, &#x27;Weight&#x27;,\n",
       "                                                   &#x27;Duration&#x27;, &#x27;Heart_Rate&#x27;,\n",
       "                                                   &#x27;Body_Temp&#x27;])])),\n",
       "                (&#x27;model&#x27;, LinearRegression())])</pre></div></div></div><div class=\"sk-serial\"><div class=\"sk-item sk-dashed-wrapped\"><div class=\"sk-label-container\"><div class=\"sk-label sk-toggleable\"><input class=\"sk-toggleable__control sk-hidden--visually\" id=\"7554b338-6d2c-480f-9bc1-9a87cbc9b02d\" type=\"checkbox\" ><label for=\"7554b338-6d2c-480f-9bc1-9a87cbc9b02d\" class=\"sk-toggleable__label sk-toggleable__label-arrow\">preprocessor: ColumnTransformer</label><div class=\"sk-toggleable__content\"><pre>ColumnTransformer(remainder=&#x27;passthrough&#x27;,\n",
       "                  transformers=[(&#x27;ordinal&#x27;, OrdinalEncoder(), [&#x27;Gender&#x27;]),\n",
       "                                (&#x27;num&#x27;, StandardScaler(),\n",
       "                                 [&#x27;Age&#x27;, &#x27;Height&#x27;, &#x27;Weight&#x27;, &#x27;Duration&#x27;,\n",
       "                                  &#x27;Heart_Rate&#x27;, &#x27;Body_Temp&#x27;])])</pre></div></div></div><div class=\"sk-parallel\"><div class=\"sk-parallel-item\"><div class=\"sk-item\"><div class=\"sk-label-container\"><div class=\"sk-label sk-toggleable\"><input class=\"sk-toggleable__control sk-hidden--visually\" id=\"9c10dcd2-4ecc-42a3-b504-c36e68caeb12\" type=\"checkbox\" ><label for=\"9c10dcd2-4ecc-42a3-b504-c36e68caeb12\" class=\"sk-toggleable__label sk-toggleable__label-arrow\">ordinal</label><div class=\"sk-toggleable__content\"><pre>[&#x27;Gender&#x27;]</pre></div></div></div><div class=\"sk-serial\"><div class=\"sk-item\"><div class=\"sk-estimator sk-toggleable\"><input class=\"sk-toggleable__control sk-hidden--visually\" id=\"f04d7bf6-7150-401b-a8bc-2afd7ba6ec7a\" type=\"checkbox\" ><label for=\"f04d7bf6-7150-401b-a8bc-2afd7ba6ec7a\" class=\"sk-toggleable__label sk-toggleable__label-arrow\">OrdinalEncoder</label><div class=\"sk-toggleable__content\"><pre>OrdinalEncoder()</pre></div></div></div></div></div></div><div class=\"sk-parallel-item\"><div class=\"sk-item\"><div class=\"sk-label-container\"><div class=\"sk-label sk-toggleable\"><input class=\"sk-toggleable__control sk-hidden--visually\" id=\"44b871c2-4c5b-4abd-925a-905da19bfc65\" type=\"checkbox\" ><label for=\"44b871c2-4c5b-4abd-925a-905da19bfc65\" class=\"sk-toggleable__label sk-toggleable__label-arrow\">num</label><div class=\"sk-toggleable__content\"><pre>[&#x27;Age&#x27;, &#x27;Height&#x27;, &#x27;Weight&#x27;, &#x27;Duration&#x27;, &#x27;Heart_Rate&#x27;, &#x27;Body_Temp&#x27;]</pre></div></div></div><div class=\"sk-serial\"><div class=\"sk-item\"><div class=\"sk-estimator sk-toggleable\"><input class=\"sk-toggleable__control sk-hidden--visually\" id=\"228164a7-f421-4f50-8513-fddd866d8e9d\" type=\"checkbox\" ><label for=\"228164a7-f421-4f50-8513-fddd866d8e9d\" class=\"sk-toggleable__label sk-toggleable__label-arrow\">StandardScaler</label><div class=\"sk-toggleable__content\"><pre>StandardScaler()</pre></div></div></div></div></div></div><div class=\"sk-parallel-item\"><div class=\"sk-item\"><div class=\"sk-label-container\"><div class=\"sk-label sk-toggleable\"><input class=\"sk-toggleable__control sk-hidden--visually\" id=\"a7590b23-3e24-4de2-a291-2d9971f5a964\" type=\"checkbox\" ><label for=\"a7590b23-3e24-4de2-a291-2d9971f5a964\" class=\"sk-toggleable__label sk-toggleable__label-arrow\">remainder</label><div class=\"sk-toggleable__content\"><pre></pre></div></div></div><div class=\"sk-serial\"><div class=\"sk-item\"><div class=\"sk-estimator sk-toggleable\"><input class=\"sk-toggleable__control sk-hidden--visually\" id=\"ea07df7e-4e27-4fd2-8fd8-92926ae19d55\" type=\"checkbox\" ><label for=\"ea07df7e-4e27-4fd2-8fd8-92926ae19d55\" class=\"sk-toggleable__label sk-toggleable__label-arrow\">passthrough</label><div class=\"sk-toggleable__content\"><pre>passthrough</pre></div></div></div></div></div></div></div></div><div class=\"sk-item\"><div class=\"sk-estimator sk-toggleable\"><input class=\"sk-toggleable__control sk-hidden--visually\" id=\"480292e8-c00b-43f9-b498-4804356b723e\" type=\"checkbox\" ><label for=\"480292e8-c00b-43f9-b498-4804356b723e\" class=\"sk-toggleable__label sk-toggleable__label-arrow\">LinearRegression</label><div class=\"sk-toggleable__content\"><pre>LinearRegression()</pre></div></div></div></div></div></div></div>"
      ],
      "text/plain": [
       "Pipeline(steps=[('preprocessor',\n",
       "                 ColumnTransformer(remainder='passthrough',\n",
       "                                   transformers=[('ordinal', OrdinalEncoder(),\n",
       "                                                  ['Gender']),\n",
       "                                                 ('num', StandardScaler(),\n",
       "                                                  ['Age', 'Height', 'Weight',\n",
       "                                                   'Duration', 'Heart_Rate',\n",
       "                                                   'Body_Temp'])])),\n",
       "                ('model', LinearRegression())])"
      ]
     },
     "execution_count": 17,
     "metadata": {},
     "output_type": "execute_result"
    }
   ],
   "source": [
    "pipeline"
   ]
  },
  {
   "cell_type": "code",
   "execution_count": 18,
   "metadata": {},
   "outputs": [
    {
     "data": {
      "text/html": [
       "<style>#sk-7d1be49c-7d57-48da-a0f0-c96dec45acf5 {color: black;background-color: white;}#sk-7d1be49c-7d57-48da-a0f0-c96dec45acf5 pre{padding: 0;}#sk-7d1be49c-7d57-48da-a0f0-c96dec45acf5 div.sk-toggleable {background-color: white;}#sk-7d1be49c-7d57-48da-a0f0-c96dec45acf5 label.sk-toggleable__label {cursor: pointer;display: block;width: 100%;margin-bottom: 0;padding: 0.3em;box-sizing: border-box;text-align: center;}#sk-7d1be49c-7d57-48da-a0f0-c96dec45acf5 label.sk-toggleable__label-arrow:before {content: \"▸\";float: left;margin-right: 0.25em;color: #696969;}#sk-7d1be49c-7d57-48da-a0f0-c96dec45acf5 label.sk-toggleable__label-arrow:hover:before {color: black;}#sk-7d1be49c-7d57-48da-a0f0-c96dec45acf5 div.sk-estimator:hover label.sk-toggleable__label-arrow:before {color: black;}#sk-7d1be49c-7d57-48da-a0f0-c96dec45acf5 div.sk-toggleable__content {max-height: 0;max-width: 0;overflow: hidden;text-align: left;background-color: #f0f8ff;}#sk-7d1be49c-7d57-48da-a0f0-c96dec45acf5 div.sk-toggleable__content pre {margin: 0.2em;color: black;border-radius: 0.25em;background-color: #f0f8ff;}#sk-7d1be49c-7d57-48da-a0f0-c96dec45acf5 input.sk-toggleable__control:checked~div.sk-toggleable__content {max-height: 200px;max-width: 100%;overflow: auto;}#sk-7d1be49c-7d57-48da-a0f0-c96dec45acf5 input.sk-toggleable__control:checked~label.sk-toggleable__label-arrow:before {content: \"▾\";}#sk-7d1be49c-7d57-48da-a0f0-c96dec45acf5 div.sk-estimator input.sk-toggleable__control:checked~label.sk-toggleable__label {background-color: #d4ebff;}#sk-7d1be49c-7d57-48da-a0f0-c96dec45acf5 div.sk-label input.sk-toggleable__control:checked~label.sk-toggleable__label {background-color: #d4ebff;}#sk-7d1be49c-7d57-48da-a0f0-c96dec45acf5 input.sk-hidden--visually {border: 0;clip: rect(1px 1px 1px 1px);clip: rect(1px, 1px, 1px, 1px);height: 1px;margin: -1px;overflow: hidden;padding: 0;position: absolute;width: 1px;}#sk-7d1be49c-7d57-48da-a0f0-c96dec45acf5 div.sk-estimator {font-family: monospace;background-color: #f0f8ff;border: 1px dotted black;border-radius: 0.25em;box-sizing: border-box;margin-bottom: 0.5em;}#sk-7d1be49c-7d57-48da-a0f0-c96dec45acf5 div.sk-estimator:hover {background-color: #d4ebff;}#sk-7d1be49c-7d57-48da-a0f0-c96dec45acf5 div.sk-parallel-item::after {content: \"\";width: 100%;border-bottom: 1px solid gray;flex-grow: 1;}#sk-7d1be49c-7d57-48da-a0f0-c96dec45acf5 div.sk-label:hover label.sk-toggleable__label {background-color: #d4ebff;}#sk-7d1be49c-7d57-48da-a0f0-c96dec45acf5 div.sk-serial::before {content: \"\";position: absolute;border-left: 1px solid gray;box-sizing: border-box;top: 2em;bottom: 0;left: 50%;}#sk-7d1be49c-7d57-48da-a0f0-c96dec45acf5 div.sk-serial {display: flex;flex-direction: column;align-items: center;background-color: white;padding-right: 0.2em;padding-left: 0.2em;}#sk-7d1be49c-7d57-48da-a0f0-c96dec45acf5 div.sk-item {z-index: 1;}#sk-7d1be49c-7d57-48da-a0f0-c96dec45acf5 div.sk-parallel {display: flex;align-items: stretch;justify-content: center;background-color: white;}#sk-7d1be49c-7d57-48da-a0f0-c96dec45acf5 div.sk-parallel::before {content: \"\";position: absolute;border-left: 1px solid gray;box-sizing: border-box;top: 2em;bottom: 0;left: 50%;}#sk-7d1be49c-7d57-48da-a0f0-c96dec45acf5 div.sk-parallel-item {display: flex;flex-direction: column;position: relative;background-color: white;}#sk-7d1be49c-7d57-48da-a0f0-c96dec45acf5 div.sk-parallel-item:first-child::after {align-self: flex-end;width: 50%;}#sk-7d1be49c-7d57-48da-a0f0-c96dec45acf5 div.sk-parallel-item:last-child::after {align-self: flex-start;width: 50%;}#sk-7d1be49c-7d57-48da-a0f0-c96dec45acf5 div.sk-parallel-item:only-child::after {width: 0;}#sk-7d1be49c-7d57-48da-a0f0-c96dec45acf5 div.sk-dashed-wrapped {border: 1px dashed gray;margin: 0 0.4em 0.5em 0.4em;box-sizing: border-box;padding-bottom: 0.4em;background-color: white;position: relative;}#sk-7d1be49c-7d57-48da-a0f0-c96dec45acf5 div.sk-label label {font-family: monospace;font-weight: bold;background-color: white;display: inline-block;line-height: 1.2em;}#sk-7d1be49c-7d57-48da-a0f0-c96dec45acf5 div.sk-label-container {position: relative;z-index: 2;text-align: center;}#sk-7d1be49c-7d57-48da-a0f0-c96dec45acf5 div.sk-container {/* jupyter's `normalize.less` sets `[hidden] { display: none; }` but bootstrap.min.css set `[hidden] { display: none !important; }` so we also need the `!important` here to be able to override the default hidden behavior on the sphinx rendered scikit-learn.org. See: https://github.com/scikit-learn/scikit-learn/issues/21755 */display: inline-block !important;position: relative;}#sk-7d1be49c-7d57-48da-a0f0-c96dec45acf5 div.sk-text-repr-fallback {display: none;}</style><div id=\"sk-7d1be49c-7d57-48da-a0f0-c96dec45acf5\" class=\"sk-top-container\"><div class=\"sk-text-repr-fallback\"><pre>Pipeline(steps=[(&#x27;preprocessor&#x27;,\n",
       "                 ColumnTransformer(remainder=&#x27;passthrough&#x27;,\n",
       "                                   transformers=[(&#x27;ordinal&#x27;, OrdinalEncoder(),\n",
       "                                                  [&#x27;Gender&#x27;]),\n",
       "                                                 (&#x27;num&#x27;, StandardScaler(),\n",
       "                                                  [&#x27;Age&#x27;, &#x27;Height&#x27;, &#x27;Weight&#x27;,\n",
       "                                                   &#x27;Duration&#x27;, &#x27;Heart_Rate&#x27;,\n",
       "                                                   &#x27;Body_Temp&#x27;])])),\n",
       "                (&#x27;model&#x27;, LinearRegression())])</pre><b>Please rerun this cell to show the HTML repr or trust the notebook.</b></div><div class=\"sk-container\" hidden><div class=\"sk-item sk-dashed-wrapped\"><div class=\"sk-label-container\"><div class=\"sk-label sk-toggleable\"><input class=\"sk-toggleable__control sk-hidden--visually\" id=\"c63750d8-c8c3-482b-a66a-6922f6dce935\" type=\"checkbox\" ><label for=\"c63750d8-c8c3-482b-a66a-6922f6dce935\" class=\"sk-toggleable__label sk-toggleable__label-arrow\">Pipeline</label><div class=\"sk-toggleable__content\"><pre>Pipeline(steps=[(&#x27;preprocessor&#x27;,\n",
       "                 ColumnTransformer(remainder=&#x27;passthrough&#x27;,\n",
       "                                   transformers=[(&#x27;ordinal&#x27;, OrdinalEncoder(),\n",
       "                                                  [&#x27;Gender&#x27;]),\n",
       "                                                 (&#x27;num&#x27;, StandardScaler(),\n",
       "                                                  [&#x27;Age&#x27;, &#x27;Height&#x27;, &#x27;Weight&#x27;,\n",
       "                                                   &#x27;Duration&#x27;, &#x27;Heart_Rate&#x27;,\n",
       "                                                   &#x27;Body_Temp&#x27;])])),\n",
       "                (&#x27;model&#x27;, LinearRegression())])</pre></div></div></div><div class=\"sk-serial\"><div class=\"sk-item sk-dashed-wrapped\"><div class=\"sk-label-container\"><div class=\"sk-label sk-toggleable\"><input class=\"sk-toggleable__control sk-hidden--visually\" id=\"4200c889-f738-4921-81f2-73a7e2aae6e9\" type=\"checkbox\" ><label for=\"4200c889-f738-4921-81f2-73a7e2aae6e9\" class=\"sk-toggleable__label sk-toggleable__label-arrow\">preprocessor: ColumnTransformer</label><div class=\"sk-toggleable__content\"><pre>ColumnTransformer(remainder=&#x27;passthrough&#x27;,\n",
       "                  transformers=[(&#x27;ordinal&#x27;, OrdinalEncoder(), [&#x27;Gender&#x27;]),\n",
       "                                (&#x27;num&#x27;, StandardScaler(),\n",
       "                                 [&#x27;Age&#x27;, &#x27;Height&#x27;, &#x27;Weight&#x27;, &#x27;Duration&#x27;,\n",
       "                                  &#x27;Heart_Rate&#x27;, &#x27;Body_Temp&#x27;])])</pre></div></div></div><div class=\"sk-parallel\"><div class=\"sk-parallel-item\"><div class=\"sk-item\"><div class=\"sk-label-container\"><div class=\"sk-label sk-toggleable\"><input class=\"sk-toggleable__control sk-hidden--visually\" id=\"88b9676c-6ceb-488b-9ab7-12470d197ce9\" type=\"checkbox\" ><label for=\"88b9676c-6ceb-488b-9ab7-12470d197ce9\" class=\"sk-toggleable__label sk-toggleable__label-arrow\">ordinal</label><div class=\"sk-toggleable__content\"><pre>[&#x27;Gender&#x27;]</pre></div></div></div><div class=\"sk-serial\"><div class=\"sk-item\"><div class=\"sk-estimator sk-toggleable\"><input class=\"sk-toggleable__control sk-hidden--visually\" id=\"314526cf-0e3c-4dbc-9497-1a5a117508dd\" type=\"checkbox\" ><label for=\"314526cf-0e3c-4dbc-9497-1a5a117508dd\" class=\"sk-toggleable__label sk-toggleable__label-arrow\">OrdinalEncoder</label><div class=\"sk-toggleable__content\"><pre>OrdinalEncoder()</pre></div></div></div></div></div></div><div class=\"sk-parallel-item\"><div class=\"sk-item\"><div class=\"sk-label-container\"><div class=\"sk-label sk-toggleable\"><input class=\"sk-toggleable__control sk-hidden--visually\" id=\"3b01a1d3-4db6-45c6-b7b2-ff389ed6b621\" type=\"checkbox\" ><label for=\"3b01a1d3-4db6-45c6-b7b2-ff389ed6b621\" class=\"sk-toggleable__label sk-toggleable__label-arrow\">num</label><div class=\"sk-toggleable__content\"><pre>[&#x27;Age&#x27;, &#x27;Height&#x27;, &#x27;Weight&#x27;, &#x27;Duration&#x27;, &#x27;Heart_Rate&#x27;, &#x27;Body_Temp&#x27;]</pre></div></div></div><div class=\"sk-serial\"><div class=\"sk-item\"><div class=\"sk-estimator sk-toggleable\"><input class=\"sk-toggleable__control sk-hidden--visually\" id=\"424333f8-4e81-4c4b-8f09-2c9c729adcc9\" type=\"checkbox\" ><label for=\"424333f8-4e81-4c4b-8f09-2c9c729adcc9\" class=\"sk-toggleable__label sk-toggleable__label-arrow\">StandardScaler</label><div class=\"sk-toggleable__content\"><pre>StandardScaler()</pre></div></div></div></div></div></div><div class=\"sk-parallel-item\"><div class=\"sk-item\"><div class=\"sk-label-container\"><div class=\"sk-label sk-toggleable\"><input class=\"sk-toggleable__control sk-hidden--visually\" id=\"c6a50760-391c-4869-8d53-154c28d6e2b4\" type=\"checkbox\" ><label for=\"c6a50760-391c-4869-8d53-154c28d6e2b4\" class=\"sk-toggleable__label sk-toggleable__label-arrow\">remainder</label><div class=\"sk-toggleable__content\"><pre>[]</pre></div></div></div><div class=\"sk-serial\"><div class=\"sk-item\"><div class=\"sk-estimator sk-toggleable\"><input class=\"sk-toggleable__control sk-hidden--visually\" id=\"631b33fe-c2f2-4fa2-a2a5-e58fd6661dd2\" type=\"checkbox\" ><label for=\"631b33fe-c2f2-4fa2-a2a5-e58fd6661dd2\" class=\"sk-toggleable__label sk-toggleable__label-arrow\">passthrough</label><div class=\"sk-toggleable__content\"><pre>passthrough</pre></div></div></div></div></div></div></div></div><div class=\"sk-item\"><div class=\"sk-estimator sk-toggleable\"><input class=\"sk-toggleable__control sk-hidden--visually\" id=\"5e1233a7-51f8-4e8e-b5fd-b27fe36cd8d8\" type=\"checkbox\" ><label for=\"5e1233a7-51f8-4e8e-b5fd-b27fe36cd8d8\" class=\"sk-toggleable__label sk-toggleable__label-arrow\">LinearRegression</label><div class=\"sk-toggleable__content\"><pre>LinearRegression()</pre></div></div></div></div></div></div></div>"
      ],
      "text/plain": [
       "Pipeline(steps=[('preprocessor',\n",
       "                 ColumnTransformer(remainder='passthrough',\n",
       "                                   transformers=[('ordinal', OrdinalEncoder(),\n",
       "                                                  ['Gender']),\n",
       "                                                 ('num', StandardScaler(),\n",
       "                                                  ['Age', 'Height', 'Weight',\n",
       "                                                   'Duration', 'Heart_Rate',\n",
       "                                                   'Body_Temp'])])),\n",
       "                ('model', LinearRegression())])"
      ]
     },
     "execution_count": 18,
     "metadata": {},
     "output_type": "execute_result"
    }
   ],
   "source": [
    "pipeline.fit(X_train,y_train)"
   ]
  },
  {
   "cell_type": "code",
   "execution_count": 19,
   "metadata": {},
   "outputs": [],
   "source": [
    "y_pred = pipeline.predict(X_test)"
   ]
  },
  {
   "cell_type": "code",
   "execution_count": 20,
   "metadata": {},
   "outputs": [],
   "source": [
    "from sklearn.metrics import r2_score"
   ]
  },
  {
   "cell_type": "code",
   "execution_count": 21,
   "metadata": {},
   "outputs": [
    {
     "data": {
      "text/plain": [
       "0.9672937151257295"
      ]
     },
     "execution_count": 21,
     "metadata": {},
     "output_type": "execute_result"
    }
   ],
   "source": [
    "r2_score(y_test,y_pred)"
   ]
  },
  {
   "cell_type": "code",
   "execution_count": 22,
   "metadata": {},
   "outputs": [],
   "source": [
    "from sklearn.model_selection import KFold"
   ]
  },
  {
   "cell_type": "code",
   "execution_count": 23,
   "metadata": {},
   "outputs": [],
   "source": [
    "kfold = KFold(n_splits=5, shuffle=True, random_state=42)"
   ]
  },
  {
   "cell_type": "code",
   "execution_count": 24,
   "metadata": {},
   "outputs": [],
   "source": [
    "from sklearn.model_selection import cross_val_score"
   ]
  },
  {
   "cell_type": "code",
   "execution_count": 25,
   "metadata": {},
   "outputs": [],
   "source": [
    "cv_results = cross_val_score(pipeline, X, y, cv=kfold, scoring='r2')"
   ]
  },
  {
   "cell_type": "code",
   "execution_count": 26,
   "metadata": {},
   "outputs": [
    {
     "data": {
      "text/plain": [
       "0.9671402283675841"
      ]
     },
     "execution_count": 26,
     "metadata": {},
     "output_type": "execute_result"
    }
   ],
   "source": [
    "cv_results.mean()"
   ]
  },
  {
   "cell_type": "code",
   "execution_count": 27,
   "metadata": {},
   "outputs": [],
   "source": [
    "from sklearn.metrics import mean_absolute_error"
   ]
  },
  {
   "cell_type": "code",
   "execution_count": 28,
   "metadata": {},
   "outputs": [
    {
     "data": {
      "text/plain": [
       "8.441513553849704"
      ]
     },
     "execution_count": 28,
     "metadata": {},
     "output_type": "execute_result"
    }
   ],
   "source": [
    "mean_absolute_error(y_test,y_pred)"
   ]
  },
  {
   "cell_type": "code",
   "execution_count": 29,
   "metadata": {},
   "outputs": [],
   "source": [
    "def model_scorer(model_name,model):\n",
    "    \n",
    "    output=[]\n",
    "   \n",
    "    \n",
    "    output.append(model_name)\n",
    "    \n",
    "    pipeline = Pipeline([\n",
    "    ('preprocessor',preprocessor),\n",
    "    ('model',model)])\n",
    "    \n",
    "    X_train,X_test,y_train,y_test = train_test_split(X,y,test_size=0.20,random_state=42)\n",
    "    \n",
    "    pipeline.fit(X_train,y_train)\n",
    "    \n",
    "    y_pred = pipeline.predict(X_test)\n",
    "    \n",
    "    output.append(r2_score(y_test,y_pred))\n",
    "    output.append(mean_absolute_error(y_test,y_pred))\n",
    "    \n",
    "    kfold = KFold(n_splits=5, shuffle=True, random_state=42)\n",
    "    cv_results = cross_val_score(pipeline, X, y, cv=kfold, scoring='r2')\n",
    "    output.append(cv_results.mean())\n",
    "    \n",
    "    return output"
   ]
  },
  {
   "cell_type": "code",
   "execution_count": 30,
   "metadata": {},
   "outputs": [],
   "source": [
    "model_dict={\n",
    "    'log':LinearRegression(),\n",
    "    'RF':RandomForestRegressor(),\n",
    "    'XGBR':XGBRegressor(),\n",
    "}"
   ]
  },
  {
   "cell_type": "code",
   "execution_count": 31,
   "metadata": {},
   "outputs": [],
   "source": [
    "model_output=[]\n",
    "for model_name,model in model_dict.items():\n",
    "    model_output.append(model_scorer(model_name,model))"
   ]
  },
  {
   "cell_type": "code",
   "execution_count": 32,
   "metadata": {},
   "outputs": [
    {
     "data": {
      "text/plain": [
       "[['log', 0.9672937151257295, 8.441513553849704, 0.9671402283675841],\n",
       " ['RF', 0.9982837017128108, 1.6825333333333334, 0.9979444881256778],\n",
       " ['XGBR', 0.9987522347821293, 1.5171571099360783, 0.9987673407571723]]"
      ]
     },
     "execution_count": 32,
     "metadata": {},
     "output_type": "execute_result"
    }
   ],
   "source": [
    "model_output"
   ]
  },
  {
   "cell_type": "code",
   "execution_count": 33,
   "metadata": {},
   "outputs": [],
   "source": [
    "preprocessor = ColumnTransformer(transformers=[\n",
    "    ('ordinal',OrdinalEncoder(),['Gender']),\n",
    "    ('num',StandardScaler(),['Age',\n",
    "                            'Height',\n",
    "                            'Weight',\n",
    "                            'Duration',\n",
    "                            'Heart_Rate',\n",
    "                            'Body_Temp']),\n",
    "    \n",
    "],remainder='passthrough')"
   ]
  },
  {
   "cell_type": "code",
   "execution_count": 34,
   "metadata": {},
   "outputs": [],
   "source": [
    "pipeline = Pipeline([\n",
    "    ('preprocessor',preprocessor),\n",
    "    ('model',XGBRegressor())\n",
    "    \n",
    "])"
   ]
  },
  {
   "cell_type": "code",
   "execution_count": 35,
   "metadata": {},
   "outputs": [
    {
     "data": {
      "text/html": [
       "<style>#sk-d7b50b63-72ce-4999-b292-eb049f4f3b87 {color: black;background-color: white;}#sk-d7b50b63-72ce-4999-b292-eb049f4f3b87 pre{padding: 0;}#sk-d7b50b63-72ce-4999-b292-eb049f4f3b87 div.sk-toggleable {background-color: white;}#sk-d7b50b63-72ce-4999-b292-eb049f4f3b87 label.sk-toggleable__label {cursor: pointer;display: block;width: 100%;margin-bottom: 0;padding: 0.3em;box-sizing: border-box;text-align: center;}#sk-d7b50b63-72ce-4999-b292-eb049f4f3b87 label.sk-toggleable__label-arrow:before {content: \"▸\";float: left;margin-right: 0.25em;color: #696969;}#sk-d7b50b63-72ce-4999-b292-eb049f4f3b87 label.sk-toggleable__label-arrow:hover:before {color: black;}#sk-d7b50b63-72ce-4999-b292-eb049f4f3b87 div.sk-estimator:hover label.sk-toggleable__label-arrow:before {color: black;}#sk-d7b50b63-72ce-4999-b292-eb049f4f3b87 div.sk-toggleable__content {max-height: 0;max-width: 0;overflow: hidden;text-align: left;background-color: #f0f8ff;}#sk-d7b50b63-72ce-4999-b292-eb049f4f3b87 div.sk-toggleable__content pre {margin: 0.2em;color: black;border-radius: 0.25em;background-color: #f0f8ff;}#sk-d7b50b63-72ce-4999-b292-eb049f4f3b87 input.sk-toggleable__control:checked~div.sk-toggleable__content {max-height: 200px;max-width: 100%;overflow: auto;}#sk-d7b50b63-72ce-4999-b292-eb049f4f3b87 input.sk-toggleable__control:checked~label.sk-toggleable__label-arrow:before {content: \"▾\";}#sk-d7b50b63-72ce-4999-b292-eb049f4f3b87 div.sk-estimator input.sk-toggleable__control:checked~label.sk-toggleable__label {background-color: #d4ebff;}#sk-d7b50b63-72ce-4999-b292-eb049f4f3b87 div.sk-label input.sk-toggleable__control:checked~label.sk-toggleable__label {background-color: #d4ebff;}#sk-d7b50b63-72ce-4999-b292-eb049f4f3b87 input.sk-hidden--visually {border: 0;clip: rect(1px 1px 1px 1px);clip: rect(1px, 1px, 1px, 1px);height: 1px;margin: -1px;overflow: hidden;padding: 0;position: absolute;width: 1px;}#sk-d7b50b63-72ce-4999-b292-eb049f4f3b87 div.sk-estimator {font-family: monospace;background-color: #f0f8ff;border: 1px dotted black;border-radius: 0.25em;box-sizing: border-box;margin-bottom: 0.5em;}#sk-d7b50b63-72ce-4999-b292-eb049f4f3b87 div.sk-estimator:hover {background-color: #d4ebff;}#sk-d7b50b63-72ce-4999-b292-eb049f4f3b87 div.sk-parallel-item::after {content: \"\";width: 100%;border-bottom: 1px solid gray;flex-grow: 1;}#sk-d7b50b63-72ce-4999-b292-eb049f4f3b87 div.sk-label:hover label.sk-toggleable__label {background-color: #d4ebff;}#sk-d7b50b63-72ce-4999-b292-eb049f4f3b87 div.sk-serial::before {content: \"\";position: absolute;border-left: 1px solid gray;box-sizing: border-box;top: 2em;bottom: 0;left: 50%;}#sk-d7b50b63-72ce-4999-b292-eb049f4f3b87 div.sk-serial {display: flex;flex-direction: column;align-items: center;background-color: white;padding-right: 0.2em;padding-left: 0.2em;}#sk-d7b50b63-72ce-4999-b292-eb049f4f3b87 div.sk-item {z-index: 1;}#sk-d7b50b63-72ce-4999-b292-eb049f4f3b87 div.sk-parallel {display: flex;align-items: stretch;justify-content: center;background-color: white;}#sk-d7b50b63-72ce-4999-b292-eb049f4f3b87 div.sk-parallel::before {content: \"\";position: absolute;border-left: 1px solid gray;box-sizing: border-box;top: 2em;bottom: 0;left: 50%;}#sk-d7b50b63-72ce-4999-b292-eb049f4f3b87 div.sk-parallel-item {display: flex;flex-direction: column;position: relative;background-color: white;}#sk-d7b50b63-72ce-4999-b292-eb049f4f3b87 div.sk-parallel-item:first-child::after {align-self: flex-end;width: 50%;}#sk-d7b50b63-72ce-4999-b292-eb049f4f3b87 div.sk-parallel-item:last-child::after {align-self: flex-start;width: 50%;}#sk-d7b50b63-72ce-4999-b292-eb049f4f3b87 div.sk-parallel-item:only-child::after {width: 0;}#sk-d7b50b63-72ce-4999-b292-eb049f4f3b87 div.sk-dashed-wrapped {border: 1px dashed gray;margin: 0 0.4em 0.5em 0.4em;box-sizing: border-box;padding-bottom: 0.4em;background-color: white;position: relative;}#sk-d7b50b63-72ce-4999-b292-eb049f4f3b87 div.sk-label label {font-family: monospace;font-weight: bold;background-color: white;display: inline-block;line-height: 1.2em;}#sk-d7b50b63-72ce-4999-b292-eb049f4f3b87 div.sk-label-container {position: relative;z-index: 2;text-align: center;}#sk-d7b50b63-72ce-4999-b292-eb049f4f3b87 div.sk-container {/* jupyter's `normalize.less` sets `[hidden] { display: none; }` but bootstrap.min.css set `[hidden] { display: none !important; }` so we also need the `!important` here to be able to override the default hidden behavior on the sphinx rendered scikit-learn.org. See: https://github.com/scikit-learn/scikit-learn/issues/21755 */display: inline-block !important;position: relative;}#sk-d7b50b63-72ce-4999-b292-eb049f4f3b87 div.sk-text-repr-fallback {display: none;}</style><div id=\"sk-d7b50b63-72ce-4999-b292-eb049f4f3b87\" class=\"sk-top-container\"><div class=\"sk-text-repr-fallback\"><pre>Pipeline(steps=[(&#x27;preprocessor&#x27;,\n",
       "                 ColumnTransformer(remainder=&#x27;passthrough&#x27;,\n",
       "                                   transformers=[(&#x27;ordinal&#x27;, OrdinalEncoder(),\n",
       "                                                  [&#x27;Gender&#x27;]),\n",
       "                                                 (&#x27;num&#x27;, StandardScaler(),\n",
       "                                                  [&#x27;Age&#x27;, &#x27;Height&#x27;, &#x27;Weight&#x27;,\n",
       "                                                   &#x27;Duration&#x27;, &#x27;Heart_Rate&#x27;,\n",
       "                                                   &#x27;Body_Temp&#x27;])])),\n",
       "                (&#x27;model&#x27;,\n",
       "                 XGBRegressor(base_score=0.5, booster=&#x27;gbtree&#x27;,\n",
       "                              colsample_bylevel=1, colsample_bynode=1,\n",
       "                              colsample_bytree=1, gamma=0, gpu_id=-1,\n",
       "                              importance_type=&#x27;gain&#x27;,\n",
       "                              interaction_constraints=&#x27;&#x27;,\n",
       "                              learning_rate=0.300000012, max_delta_step=0,\n",
       "                              max_depth=6, min_child_weight=1, missing=nan,\n",
       "                              monotone_constraints=&#x27;()&#x27;, n_estimators=100,\n",
       "                              n_jobs=4, num_parallel_tree=1, random_state=0,\n",
       "                              reg_alpha=0, reg_lambda=1, scale_pos_weight=1,\n",
       "                              subsample=1, tree_method=&#x27;exact&#x27;,\n",
       "                              validate_parameters=1, verbosity=None))])</pre><b>Please rerun this cell to show the HTML repr or trust the notebook.</b></div><div class=\"sk-container\" hidden><div class=\"sk-item sk-dashed-wrapped\"><div class=\"sk-label-container\"><div class=\"sk-label sk-toggleable\"><input class=\"sk-toggleable__control sk-hidden--visually\" id=\"65474562-55c2-4b8c-a582-7b535bd27baf\" type=\"checkbox\" ><label for=\"65474562-55c2-4b8c-a582-7b535bd27baf\" class=\"sk-toggleable__label sk-toggleable__label-arrow\">Pipeline</label><div class=\"sk-toggleable__content\"><pre>Pipeline(steps=[(&#x27;preprocessor&#x27;,\n",
       "                 ColumnTransformer(remainder=&#x27;passthrough&#x27;,\n",
       "                                   transformers=[(&#x27;ordinal&#x27;, OrdinalEncoder(),\n",
       "                                                  [&#x27;Gender&#x27;]),\n",
       "                                                 (&#x27;num&#x27;, StandardScaler(),\n",
       "                                                  [&#x27;Age&#x27;, &#x27;Height&#x27;, &#x27;Weight&#x27;,\n",
       "                                                   &#x27;Duration&#x27;, &#x27;Heart_Rate&#x27;,\n",
       "                                                   &#x27;Body_Temp&#x27;])])),\n",
       "                (&#x27;model&#x27;,\n",
       "                 XGBRegressor(base_score=0.5, booster=&#x27;gbtree&#x27;,\n",
       "                              colsample_bylevel=1, colsample_bynode=1,\n",
       "                              colsample_bytree=1, gamma=0, gpu_id=-1,\n",
       "                              importance_type=&#x27;gain&#x27;,\n",
       "                              interaction_constraints=&#x27;&#x27;,\n",
       "                              learning_rate=0.300000012, max_delta_step=0,\n",
       "                              max_depth=6, min_child_weight=1, missing=nan,\n",
       "                              monotone_constraints=&#x27;()&#x27;, n_estimators=100,\n",
       "                              n_jobs=4, num_parallel_tree=1, random_state=0,\n",
       "                              reg_alpha=0, reg_lambda=1, scale_pos_weight=1,\n",
       "                              subsample=1, tree_method=&#x27;exact&#x27;,\n",
       "                              validate_parameters=1, verbosity=None))])</pre></div></div></div><div class=\"sk-serial\"><div class=\"sk-item sk-dashed-wrapped\"><div class=\"sk-label-container\"><div class=\"sk-label sk-toggleable\"><input class=\"sk-toggleable__control sk-hidden--visually\" id=\"806cb8a0-ad20-464c-838b-5b8926fb639a\" type=\"checkbox\" ><label for=\"806cb8a0-ad20-464c-838b-5b8926fb639a\" class=\"sk-toggleable__label sk-toggleable__label-arrow\">preprocessor: ColumnTransformer</label><div class=\"sk-toggleable__content\"><pre>ColumnTransformer(remainder=&#x27;passthrough&#x27;,\n",
       "                  transformers=[(&#x27;ordinal&#x27;, OrdinalEncoder(), [&#x27;Gender&#x27;]),\n",
       "                                (&#x27;num&#x27;, StandardScaler(),\n",
       "                                 [&#x27;Age&#x27;, &#x27;Height&#x27;, &#x27;Weight&#x27;, &#x27;Duration&#x27;,\n",
       "                                  &#x27;Heart_Rate&#x27;, &#x27;Body_Temp&#x27;])])</pre></div></div></div><div class=\"sk-parallel\"><div class=\"sk-parallel-item\"><div class=\"sk-item\"><div class=\"sk-label-container\"><div class=\"sk-label sk-toggleable\"><input class=\"sk-toggleable__control sk-hidden--visually\" id=\"17c596f6-b7d2-4bc0-865e-4d1f20822fa5\" type=\"checkbox\" ><label for=\"17c596f6-b7d2-4bc0-865e-4d1f20822fa5\" class=\"sk-toggleable__label sk-toggleable__label-arrow\">ordinal</label><div class=\"sk-toggleable__content\"><pre>[&#x27;Gender&#x27;]</pre></div></div></div><div class=\"sk-serial\"><div class=\"sk-item\"><div class=\"sk-estimator sk-toggleable\"><input class=\"sk-toggleable__control sk-hidden--visually\" id=\"58c60e78-ee38-4572-83ab-00a80fbc6804\" type=\"checkbox\" ><label for=\"58c60e78-ee38-4572-83ab-00a80fbc6804\" class=\"sk-toggleable__label sk-toggleable__label-arrow\">OrdinalEncoder</label><div class=\"sk-toggleable__content\"><pre>OrdinalEncoder()</pre></div></div></div></div></div></div><div class=\"sk-parallel-item\"><div class=\"sk-item\"><div class=\"sk-label-container\"><div class=\"sk-label sk-toggleable\"><input class=\"sk-toggleable__control sk-hidden--visually\" id=\"d64b4bf8-a5bc-41fa-974d-0b2bacbbcd0e\" type=\"checkbox\" ><label for=\"d64b4bf8-a5bc-41fa-974d-0b2bacbbcd0e\" class=\"sk-toggleable__label sk-toggleable__label-arrow\">num</label><div class=\"sk-toggleable__content\"><pre>[&#x27;Age&#x27;, &#x27;Height&#x27;, &#x27;Weight&#x27;, &#x27;Duration&#x27;, &#x27;Heart_Rate&#x27;, &#x27;Body_Temp&#x27;]</pre></div></div></div><div class=\"sk-serial\"><div class=\"sk-item\"><div class=\"sk-estimator sk-toggleable\"><input class=\"sk-toggleable__control sk-hidden--visually\" id=\"419f6151-8158-4ab5-99ae-26d0ac8f9e0e\" type=\"checkbox\" ><label for=\"419f6151-8158-4ab5-99ae-26d0ac8f9e0e\" class=\"sk-toggleable__label sk-toggleable__label-arrow\">StandardScaler</label><div class=\"sk-toggleable__content\"><pre>StandardScaler()</pre></div></div></div></div></div></div><div class=\"sk-parallel-item\"><div class=\"sk-item\"><div class=\"sk-label-container\"><div class=\"sk-label sk-toggleable\"><input class=\"sk-toggleable__control sk-hidden--visually\" id=\"a971627d-a025-4f8e-9bbd-2c82c9c4aeb2\" type=\"checkbox\" ><label for=\"a971627d-a025-4f8e-9bbd-2c82c9c4aeb2\" class=\"sk-toggleable__label sk-toggleable__label-arrow\">remainder</label><div class=\"sk-toggleable__content\"><pre>[]</pre></div></div></div><div class=\"sk-serial\"><div class=\"sk-item\"><div class=\"sk-estimator sk-toggleable\"><input class=\"sk-toggleable__control sk-hidden--visually\" id=\"3f2b6d61-3572-4569-9488-055d7387f0e6\" type=\"checkbox\" ><label for=\"3f2b6d61-3572-4569-9488-055d7387f0e6\" class=\"sk-toggleable__label sk-toggleable__label-arrow\">passthrough</label><div class=\"sk-toggleable__content\"><pre>passthrough</pre></div></div></div></div></div></div></div></div><div class=\"sk-item\"><div class=\"sk-estimator sk-toggleable\"><input class=\"sk-toggleable__control sk-hidden--visually\" id=\"13a38cbe-8b1a-4e79-8c65-23bc26e7243c\" type=\"checkbox\" ><label for=\"13a38cbe-8b1a-4e79-8c65-23bc26e7243c\" class=\"sk-toggleable__label sk-toggleable__label-arrow\">XGBRegressor</label><div class=\"sk-toggleable__content\"><pre>XGBRegressor(base_score=0.5, booster=&#x27;gbtree&#x27;, colsample_bylevel=1,\n",
       "             colsample_bynode=1, colsample_bytree=1, gamma=0, gpu_id=-1,\n",
       "             importance_type=&#x27;gain&#x27;, interaction_constraints=&#x27;&#x27;,\n",
       "             learning_rate=0.300000012, max_delta_step=0, max_depth=6,\n",
       "             min_child_weight=1, missing=nan, monotone_constraints=&#x27;()&#x27;,\n",
       "             n_estimators=100, n_jobs=4, num_parallel_tree=1, random_state=0,\n",
       "             reg_alpha=0, reg_lambda=1, scale_pos_weight=1, subsample=1,\n",
       "             tree_method=&#x27;exact&#x27;, validate_parameters=1, verbosity=None)</pre></div></div></div></div></div></div></div>"
      ],
      "text/plain": [
       "Pipeline(steps=[('preprocessor',\n",
       "                 ColumnTransformer(remainder='passthrough',\n",
       "                                   transformers=[('ordinal', OrdinalEncoder(),\n",
       "                                                  ['Gender']),\n",
       "                                                 ('num', StandardScaler(),\n",
       "                                                  ['Age', 'Height', 'Weight',\n",
       "                                                   'Duration', 'Heart_Rate',\n",
       "                                                   'Body_Temp'])])),\n",
       "                ('model',\n",
       "                 XGBRegressor(base_score=0.5, booster='gbtree',\n",
       "                              colsample_bylevel=1, colsample_bynode=1,\n",
       "                              colsample_bytree=1, gamma=0, gpu_id=-1,\n",
       "                              importance_type='gain',\n",
       "                              interaction_constraints='',\n",
       "                              learning_rate=0.300000012, max_delta_step=0,\n",
       "                              max_depth=6, min_child_weight=1, missing=nan,\n",
       "                              monotone_constraints='()', n_estimators=100,\n",
       "                              n_jobs=4, num_parallel_tree=1, random_state=0,\n",
       "                              reg_alpha=0, reg_lambda=1, scale_pos_weight=1,\n",
       "                              subsample=1, tree_method='exact',\n",
       "                              validate_parameters=1, verbosity=None))])"
      ]
     },
     "execution_count": 35,
     "metadata": {},
     "output_type": "execute_result"
    }
   ],
   "source": [
    "pipeline.fit(X,y)"
   ]
  },
  {
   "cell_type": "code",
   "execution_count": 36,
   "metadata": {},
   "outputs": [],
   "source": [
    "sample = pd.DataFrame({\n",
    "   'Gender':'male',\n",
    "    'Age':68,\n",
    "    'Height':190.0,\n",
    "    'Weight':94.0,\n",
    "    'Duration':29.0,\n",
    "    'Heart_Rate':105.0,\n",
    "    'Body_Temp':40.8,\n",
    "},index=[0])"
   ]
  },
  {
   "cell_type": "code",
   "execution_count": 37,
   "metadata": {},
   "outputs": [
    {
     "data": {
      "text/plain": [
       "array([231.04175], dtype=float32)"
      ]
     },
     "execution_count": 37,
     "metadata": {},
     "output_type": "execute_result"
    }
   ],
   "source": [
    "pipeline.predict(sample)"
   ]
  },
  {
   "cell_type": "markdown",
   "metadata": {},
   "source": [
    "### Save The Model"
   ]
  },
  {
   "cell_type": "code",
   "execution_count": 38,
   "metadata": {},
   "outputs": [],
   "source": [
    "import pickle"
   ]
  },
  {
   "cell_type": "code",
   "execution_count": 39,
   "metadata": {},
   "outputs": [],
   "source": [
    "with open('pipeline.pkl','wb') as f:\n",
    "    pickle.dump(pipeline,f)"
   ]
  },
  {
   "cell_type": "code",
   "execution_count": 40,
   "metadata": {},
   "outputs": [],
   "source": [
    "with open('pipeline.pkl','rb') as f:\n",
    "    pipeline_saved = pickle.load(f)"
   ]
  },
  {
   "cell_type": "code",
   "execution_count": 41,
   "metadata": {},
   "outputs": [],
   "source": [
    "result = pipeline_saved.predict(sample)"
   ]
  },
  {
   "cell_type": "code",
   "execution_count": 42,
   "metadata": {},
   "outputs": [
    {
     "data": {
      "text/plain": [
       "array([231.04175], dtype=float32)"
      ]
     },
     "execution_count": 42,
     "metadata": {},
     "output_type": "execute_result"
    }
   ],
   "source": [
    "result "
   ]
  },
  {
   "cell_type": "markdown",
   "metadata": {},
   "source": [
    "### GUI"
   ]
  },
  {
   "cell_type": "code",
   "execution_count": null,
   "metadata": {},
   "outputs": [
    {
     "name": "stdout",
     "output_type": "stream",
     "text": [
      "[227.86209]\n",
      "[176.6477]\n",
      "[176.6477]\n",
      "[179.3392]\n",
      "[187.10072]\n",
      "[187.10072]\n",
      "[187.10072]\n",
      "[179.3392]\n",
      "[250.52802]\n"
     ]
    }
   ],
   "source": [
    "import pickle\n",
    "import pandas as pd\n",
    "from tkinter import *\n",
    "\n",
    "def show_entry():\n",
    "    \n",
    "    with open('pipeline.pkl','rb') as f:\n",
    "        pipeline = pickle.load(f)\n",
    "\n",
    "    p1 = str(clicked.get())\n",
    "    p2 = float(e2.get())\n",
    "    p3 = float(e3.get())\n",
    "    p4 = float(e4.get())\n",
    "    p5 = float(e5.get())\n",
    "    p6 = float(e6.get())\n",
    "    p7 = float(e7.get())\n",
    "\n",
    "    sample = pd.DataFrame({\n",
    "    'Gender':[p1],\n",
    "    'Age':[p2],\n",
    "    'Height':[p3],\n",
    "    'Weight':[p4],\n",
    "    'Duration':[p5],\n",
    "    'Heart_Rate':[p6],\n",
    "    'Body_Temp':[p7],\n",
    "},index=[0])\n",
    "\n",
    "    result = pipeline.predict(sample)\n",
    "    print(result)\n",
    "    Label(master, text=\"Amount of Calories Burnt\").grid(row=13)\n",
    "    Label(master, text=result[0]).grid(row=14)\n",
    "        \n",
    "    \n",
    "master =Tk()\n",
    "master.title(\"Calories Burnt Prediction using Machine Learning\")\n",
    "label = Label(master,text = \"Calories Burnt Prediction\",bg = \"black\",\n",
    "               fg = \"white\").grid(row=0,columnspan=2)\n",
    "\n",
    "Label(master,text = \"Select Gender\").grid(row=1)\n",
    "Label(master,text = \"Enter Your Age\").grid(row=2)\n",
    "Label(master,text = \"Enter Your Height\").grid(row=3)\n",
    "Label(master,text = \"Enter Your Weight\").grid(row=4)\n",
    "Label(master,text = \"Duration\").grid(row=5)\n",
    "Label(master,text = \"Heart Rate\").grid(row=6)\n",
    "Label(master,text = \"Body Temp\").grid(row=7)\n",
    "\n",
    "clicked = StringVar()\n",
    "options = ['male', 'female']\n",
    "\n",
    "e1 = OptionMenu(master , clicked , *options )\n",
    "e1.configure(width=15)\n",
    "e2 = Entry(master)\n",
    "e3 = Entry(master)\n",
    "e4 = Entry(master)\n",
    "e5 = Entry(master)\n",
    "e6 = Entry(master)\n",
    "e7 = Entry(master)\n",
    "\n",
    "\n",
    "e1.grid(row=1,column=1)\n",
    "e2.grid(row=2,column=1)\n",
    "e3.grid(row=3,column=1)\n",
    "e4.grid(row=4,column=1)\n",
    "e5.grid(row=5,column=1)\n",
    "e6.grid(row=6,column=1)\n",
    "e7.grid(row=7,column=1)\n",
    "\n",
    "\n",
    "\n",
    "Button(master,text=\"Predict\",command=show_entry).grid()\n",
    "\n",
    "mainloop()\n"
   ]
  },
  {
   "cell_type": "code",
   "execution_count": null,
   "metadata": {},
   "outputs": [],
   "source": []
  }
 ],
 "metadata": {
  "kernelspec": {
   "display_name": "Python 3 (ipykernel)",
   "language": "python",
   "name": "python3"
  },
  "language_info": {
   "codemirror_mode": {
    "name": "ipython",
    "version": 3
   },
   "file_extension": ".py",
   "mimetype": "text/x-python",
   "name": "python",
   "nbconvert_exporter": "python",
   "pygments_lexer": "ipython3",
   "version": "3.12.4"
  }
 },
 "nbformat": 4,
 "nbformat_minor": 4
}
